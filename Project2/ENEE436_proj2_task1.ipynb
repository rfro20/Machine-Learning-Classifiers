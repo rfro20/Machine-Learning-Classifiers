{
  "cells": [
    {
      "cell_type": "code",
      "execution_count": null,
      "metadata": {
        "colab": {
          "base_uri": "https://localhost:8080/"
        },
        "id": "MOIij9vwWqDj",
        "outputId": "51346663-8243-40d7-f912-e2dfe9a56298"
      },
      "outputs": [
        {
          "output_type": "stream",
          "name": "stdout",
          "text": [
            "Downloading data from https://storage.googleapis.com/tensorflow/tf-keras-datasets/mnist.npz\n",
            "11493376/11490434 [==============================] - 0s 0us/step\n",
            "11501568/11490434 [==============================] - 0s 0us/step\n",
            "10000\n"
          ]
        }
      ],
      "source": [
        "import tensorflow as tf\n",
        "import numpy as np\n",
        "from sklearn import svm\n",
        "\n",
        "(x_train, y_train), (x_test, y_test) = tf.keras.datasets.mnist.load_data()\n",
        "\n",
        "#Create an SVM Classifier\n",
        "classifier = svm.SVC(C = 1, kernel='linear') # Linear Kernel\n",
        "\n",
        "print(len(x_test))\n",
        "\n",
        "x_train = np.reshape(x_train, (len(x_train), len(x_train[0]) ** 2))\n",
        "x_test = np.reshape(x_test, (len(x_test), len(x_test[0]) ** 2))\n",
        "\n",
        "x_train = x_train / 255.0\n",
        "x_test = x_test / 255.0\n",
        "\n"
      ]
    },
    {
      "cell_type": "code",
      "execution_count": null,
      "metadata": {
        "colab": {
          "base_uri": "https://localhost:8080/"
        },
        "id": "sX4lQ2vJZtHo",
        "outputId": "d5b248d3-38c2-46b6-e85c-5d0e7589e834"
      },
      "outputs": [
        {
          "output_type": "execute_result",
          "data": {
            "text/plain": [
              "SVC(C=1, kernel='linear')"
            ]
          },
          "metadata": {},
          "execution_count": 2
        }
      ],
      "source": [
        "#Train the model using the training sets\n",
        "classifier.fit(x_train, y_train)\n"
      ]
    },
    {
      "cell_type": "code",
      "execution_count": null,
      "metadata": {
        "id": "TJ5niTiiclL0"
      },
      "outputs": [],
      "source": [
        "#Predict the response for test dataset\n",
        "y_pred = classifier.predict(x_test)"
      ]
    },
    {
      "cell_type": "code",
      "execution_count": null,
      "metadata": {
        "colab": {
          "base_uri": "https://localhost:8080/"
        },
        "id": "Vb68Mk39jTXC",
        "outputId": "13560679-12f7-4206-9550-041f973bcc4a"
      },
      "outputs": [
        {
          "output_type": "stream",
          "name": "stdout",
          "text": [
            "Accuracy when classifying 0: 97.14285714285714%\n",
            "Accuracy when classifying 1: 98.59030837004406%\n",
            "Accuracy when classifying 2: 91.76356589147287%\n",
            "Accuracy when classifying 3: 92.97029702970298%\n",
            "Accuracy when classifying 4: 94.80651731160896%\n",
            "Accuracy when classifying 5: 87.66816143497758%\n",
            "Accuracy when classifying 6: 92.79749478079331%\n",
            "Accuracy when classifying 7: 91.24513618677042%\n",
            "Accuracy when classifying 8: 88.19301848049281%\n",
            "Accuracy when classifying 9: 89.09811694747275%\n"
          ]
        }
      ],
      "source": [
        "sizes = [0] * 10\n",
        "for num in y_test:\n",
        "  sizes[num] += 1\n",
        "\n",
        "successes = [0] * 10\n",
        "for i in range(len(y_pred)):\n",
        "  if y_pred[i] == y_test[i]:\n",
        "      successes[y_pred[i]] += 1\n",
        "\n",
        "for i in range(len(successes)):\n",
        "  print(\"Accuracy when classifying \" + str(i) + \": \" + str(successes[i] / sizes[i] * 100) + \"%\")\n",
        "\n",
        "\n"
      ]
    }
  ],
  "metadata": {
    "colab": {
      "name": "ENEE436_proj2_task1.ipynb",
      "provenance": []
    },
    "kernelspec": {
      "display_name": "Python 3",
      "name": "python3"
    },
    "language_info": {
      "name": "python"
    }
  },
  "nbformat": 4,
  "nbformat_minor": 0
}